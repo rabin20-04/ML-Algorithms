{
 "cells": [
  {
   "cell_type": "code",
   "execution_count": 136,
   "id": "cd888015-78a8-4441-96ca-d8232cad9a20",
   "metadata": {},
   "outputs": [],
   "source": [
    "import pandas as pd\n",
    "import numpy as np "
   ]
  },
  {
   "cell_type": "code",
   "execution_count": 137,
   "id": "8254eac8-47de-43ae-b1d4-fc29affddb64",
   "metadata": {},
   "outputs": [],
   "source": [
    "df1=pd.read_csv(\"files/IMDB_Dataset.csv\")\n",
    "df=df1.copy(deep=True)\n"
   ]
  },
  {
   "cell_type": "code",
   "execution_count": 138,
   "id": "f2e5a0f0-1a47-4b7f-b422-fa8b3a0d5f60",
   "metadata": {},
   "outputs": [
    {
     "data": {
      "text/html": [
       "<div>\n",
       "<style scoped>\n",
       "    .dataframe tbody tr th:only-of-type {\n",
       "        vertical-align: middle;\n",
       "    }\n",
       "\n",
       "    .dataframe tbody tr th {\n",
       "        vertical-align: top;\n",
       "    }\n",
       "\n",
       "    .dataframe thead th {\n",
       "        text-align: right;\n",
       "    }\n",
       "</style>\n",
       "<table border=\"1\" class=\"dataframe\">\n",
       "  <thead>\n",
       "    <tr style=\"text-align: right;\">\n",
       "      <th></th>\n",
       "      <th>review</th>\n",
       "      <th>sentiment</th>\n",
       "    </tr>\n",
       "  </thead>\n",
       "  <tbody>\n",
       "    <tr>\n",
       "      <th>0</th>\n",
       "      <td>One of the other reviewers has mentioned that ...</td>\n",
       "      <td>positive</td>\n",
       "    </tr>\n",
       "    <tr>\n",
       "      <th>1</th>\n",
       "      <td>A wonderful little production. &lt;br /&gt;&lt;br /&gt;The...</td>\n",
       "      <td>positive</td>\n",
       "    </tr>\n",
       "    <tr>\n",
       "      <th>2</th>\n",
       "      <td>I thought this was a wonderful way to spend ti...</td>\n",
       "      <td>positive</td>\n",
       "    </tr>\n",
       "    <tr>\n",
       "      <th>3</th>\n",
       "      <td>Basically there's a family where a little boy ...</td>\n",
       "      <td>negative</td>\n",
       "    </tr>\n",
       "    <tr>\n",
       "      <th>4</th>\n",
       "      <td>Petter Mattei's \"Love in the Time of Money\" is...</td>\n",
       "      <td>positive</td>\n",
       "    </tr>\n",
       "  </tbody>\n",
       "</table>\n",
       "</div>"
      ],
      "text/plain": [
       "                                              review sentiment\n",
       "0  One of the other reviewers has mentioned that ...  positive\n",
       "1  A wonderful little production. <br /><br />The...  positive\n",
       "2  I thought this was a wonderful way to spend ti...  positive\n",
       "3  Basically there's a family where a little boy ...  negative\n",
       "4  Petter Mattei's \"Love in the Time of Money\" is...  positive"
      ]
     },
     "execution_count": 138,
     "metadata": {},
     "output_type": "execute_result"
    }
   ],
   "source": [
    "df.head()"
   ]
  },
  {
   "cell_type": "code",
   "execution_count": 139,
   "id": "ccd8bb63-bd0c-4b93-a7d0-e2ca24108f0d",
   "metadata": {},
   "outputs": [
    {
     "data": {
      "text/plain": [
       "0        One of the other reviewers has mentioned that ...\n",
       "1        A wonderful little production. <br /><br />The...\n",
       "2        I thought this was a wonderful way to spend ti...\n",
       "3        Basically there's a family where a little boy ...\n",
       "4        Petter Mattei's \"Love in the Time of Money\" is...\n",
       "                               ...                        \n",
       "49995    I thought this movie did a down right good job...\n",
       "49996    Bad plot, bad dialogue, bad acting, idiotic di...\n",
       "49997    I am a Catholic taught in parochial elementary...\n",
       "49998    I'm going to have to disagree with the previou...\n",
       "49999    No one expects the Star Trek movies to be high...\n",
       "Name: review, Length: 50000, dtype: object"
      ]
     },
     "execution_count": 139,
     "metadata": {},
     "output_type": "execute_result"
    }
   ],
   "source": [
    "df.iloc[:,0]"
   ]
  },
  {
   "cell_type": "code",
   "execution_count": 140,
   "id": "cf248b48-0e6d-4afe-bab9-cf23deb529d5",
   "metadata": {},
   "outputs": [
    {
     "data": {
      "text/plain": [
       "'A wonderful little production. <br /><br />The filming technique is very unassuming- very old-time-BBC fashion and gives a comforting, and sometimes discomforting, sense of realism to the entire piece. <br /><br />The actors are extremely well chosen- Michael Sheen not only \"has got all the polari\" but he has all the voices down pat too! You can truly see the seamless editing guided by the references to Williams\\' diary entries, not only is it well worth the watching but it is a terrificly written and performed piece. A masterful production about one of the great master\\'s of comedy and his life. <br /><br />The realism really comes home with the little things: the fantasy of the guard which, rather than use the traditional \\'dream\\' techniques remains solid then disappears. It plays on our knowledge and our senses, particularly with the scenes concerning Orton and Halliwell and the sets (particularly of their flat with Halliwell\\'s murals decorating every surface) are terribly well done.'"
      ]
     },
     "execution_count": 140,
     "metadata": {},
     "output_type": "execute_result"
    }
   ],
   "source": [
    "df[\"review\"][1]"
   ]
  },
  {
   "cell_type": "markdown",
   "id": "1fa46314-f1f6-4787-8a75-f7e60cd47986",
   "metadata": {},
   "source": [
    "# Text cleaning \n",
    "- Html tags\n",
    "- Special characters\n",
    "- Lowercase all\n",
    "- Remove stop words\n",
    "- Stemming "
   ]
  },
  {
   "cell_type": "code",
   "execution_count": 142,
   "id": "7c7df268-fc9b-4366-9ddf-75e94049c049",
   "metadata": {},
   "outputs": [],
   "source": [
    "df=df.sample(10000)"
   ]
  },
  {
   "cell_type": "code",
   "execution_count": 143,
   "id": "cc2fe00b-b9b1-413c-8ecb-a58046bc42f9",
   "metadata": {},
   "outputs": [
    {
     "data": {
      "text/plain": [
       "(10000, 2)"
      ]
     },
     "execution_count": 143,
     "metadata": {},
     "output_type": "execute_result"
    }
   ],
   "source": [
    "df.shape"
   ]
  },
  {
   "cell_type": "code",
   "execution_count": 144,
   "id": "d4ff7c6f-56d4-45dc-b61c-568a865725e1",
   "metadata": {},
   "outputs": [
    {
     "data": {
      "text/html": [
       "<div>\n",
       "<style scoped>\n",
       "    .dataframe tbody tr th:only-of-type {\n",
       "        vertical-align: middle;\n",
       "    }\n",
       "\n",
       "    .dataframe tbody tr th {\n",
       "        vertical-align: top;\n",
       "    }\n",
       "\n",
       "    .dataframe thead th {\n",
       "        text-align: right;\n",
       "    }\n",
       "</style>\n",
       "<table border=\"1\" class=\"dataframe\">\n",
       "  <thead>\n",
       "    <tr style=\"text-align: right;\">\n",
       "      <th></th>\n",
       "      <th>count</th>\n",
       "      <th>unique</th>\n",
       "      <th>top</th>\n",
       "      <th>freq</th>\n",
       "    </tr>\n",
       "  </thead>\n",
       "  <tbody>\n",
       "    <tr>\n",
       "      <th>review</th>\n",
       "      <td>10000</td>\n",
       "      <td>9987</td>\n",
       "      <td>An absolutely atrocious adaptation of the wond...</td>\n",
       "      <td>2</td>\n",
       "    </tr>\n",
       "    <tr>\n",
       "      <th>sentiment</th>\n",
       "      <td>10000</td>\n",
       "      <td>2</td>\n",
       "      <td>positive</td>\n",
       "      <td>5014</td>\n",
       "    </tr>\n",
       "  </tbody>\n",
       "</table>\n",
       "</div>"
      ],
      "text/plain": [
       "           count unique                                                top  \\\n",
       "review     10000   9987  An absolutely atrocious adaptation of the wond...   \n",
       "sentiment  10000      2                                           positive   \n",
       "\n",
       "           freq  \n",
       "review        2  \n",
       "sentiment  5014  "
      ]
     },
     "execution_count": 144,
     "metadata": {},
     "output_type": "execute_result"
    }
   ],
   "source": [
    "df.describe().T"
   ]
  },
  {
   "cell_type": "code",
   "execution_count": 145,
   "id": "3438055b-4b48-41c9-9409-8d4714ab0429",
   "metadata": {},
   "outputs": [
    {
     "name": "stdout",
     "output_type": "stream",
     "text": [
      "<class 'pandas.core.frame.DataFrame'>\n",
      "Index: 10000 entries, 966 to 16854\n",
      "Data columns (total 2 columns):\n",
      " #   Column     Non-Null Count  Dtype \n",
      "---  ------     --------------  ----- \n",
      " 0   review     10000 non-null  object\n",
      " 1   sentiment  10000 non-null  object\n",
      "dtypes: object(2)\n",
      "memory usage: 234.4+ KB\n"
     ]
    }
   ],
   "source": [
    "df.info()"
   ]
  },
  {
   "cell_type": "code",
   "execution_count": 146,
   "id": "0a512688-dd07-46a0-a610-d9e3c810343b",
   "metadata": {},
   "outputs": [
    {
     "name": "stderr",
     "output_type": "stream",
     "text": [
      "/var/folders/49/2yb8tvwd13q0h205019lpz540000gn/T/ipykernel_2221/3225820470.py:1: FutureWarning: A value is trying to be set on a copy of a DataFrame or Series through chained assignment using an inplace method.\n",
      "The behavior will change in pandas 3.0. This inplace method will never work because the intermediate object on which we are setting values always behaves as a copy.\n",
      "\n",
      "For example, when doing 'df[col].method(value, inplace=True)', try using 'df.method({col: value}, inplace=True)' or df[col] = df[col].method(value) instead, to perform the operation inplace on the original object.\n",
      "\n",
      "\n",
      "  df[\"sentiment\"].replace({\"positive\":1,\"negative\":0},inplace=True)\n",
      "/var/folders/49/2yb8tvwd13q0h205019lpz540000gn/T/ipykernel_2221/3225820470.py:1: FutureWarning: Downcasting behavior in `replace` is deprecated and will be removed in a future version. To retain the old behavior, explicitly call `result.infer_objects(copy=False)`. To opt-in to the future behavior, set `pd.set_option('future.no_silent_downcasting', True)`\n",
      "  df[\"sentiment\"].replace({\"positive\":1,\"negative\":0},inplace=True)\n"
     ]
    }
   ],
   "source": [
    "df[\"sentiment\"].replace({\"positive\":1,\"negative\":0},inplace=True)"
   ]
  },
  {
   "cell_type": "code",
   "execution_count": 147,
   "id": "5fca0113-8df0-4e9a-8508-bc41c65ab2f9",
   "metadata": {},
   "outputs": [
    {
     "data": {
      "text/html": [
       "<div>\n",
       "<style scoped>\n",
       "    .dataframe tbody tr th:only-of-type {\n",
       "        vertical-align: middle;\n",
       "    }\n",
       "\n",
       "    .dataframe tbody tr th {\n",
       "        vertical-align: top;\n",
       "    }\n",
       "\n",
       "    .dataframe thead th {\n",
       "        text-align: right;\n",
       "    }\n",
       "</style>\n",
       "<table border=\"1\" class=\"dataframe\">\n",
       "  <thead>\n",
       "    <tr style=\"text-align: right;\">\n",
       "      <th></th>\n",
       "      <th>review</th>\n",
       "      <th>sentiment</th>\n",
       "    </tr>\n",
       "  </thead>\n",
       "  <tbody>\n",
       "    <tr>\n",
       "      <th>966</th>\n",
       "      <td>The problem is the role of the characters in t...</td>\n",
       "      <td>0</td>\n",
       "    </tr>\n",
       "    <tr>\n",
       "      <th>38736</th>\n",
       "      <td>Joan Fontaine stars as the villain in this Vic...</td>\n",
       "      <td>1</td>\n",
       "    </tr>\n",
       "    <tr>\n",
       "      <th>36320</th>\n",
       "      <td>A criminally short lived show that went on to ...</td>\n",
       "      <td>1</td>\n",
       "    </tr>\n",
       "    <tr>\n",
       "      <th>25168</th>\n",
       "      <td>one of the most awaited movie!i thought himesh...</td>\n",
       "      <td>0</td>\n",
       "    </tr>\n",
       "    <tr>\n",
       "      <th>11829</th>\n",
       "      <td>Such great actors such a disappointment. Marlo...</td>\n",
       "      <td>0</td>\n",
       "    </tr>\n",
       "  </tbody>\n",
       "</table>\n",
       "</div>"
      ],
      "text/plain": [
       "                                                  review  sentiment\n",
       "966    The problem is the role of the characters in t...          0\n",
       "38736  Joan Fontaine stars as the villain in this Vic...          1\n",
       "36320  A criminally short lived show that went on to ...          1\n",
       "25168  one of the most awaited movie!i thought himesh...          0\n",
       "11829  Such great actors such a disappointment. Marlo...          0"
      ]
     },
     "execution_count": 147,
     "metadata": {},
     "output_type": "execute_result"
    }
   ],
   "source": [
    "df.head()"
   ]
  },
  {
   "cell_type": "markdown",
   "id": "d122236f-e43d-4ecc-992a-ddb86bd47bfb",
   "metadata": {},
   "source": [
    "##  Remove html tags"
   ]
  },
  {
   "cell_type": "code",
   "execution_count": 149,
   "id": "a66c15c7-b7ee-4264-a2e7-ee9f2f38c625",
   "metadata": {},
   "outputs": [
    {
     "data": {
      "text/plain": [
       "'Barry Kane (Robert Cummings) is wrongfully accused on sabotaging a hanger making aircrafts for the war. He goes on the run, meets Patricia Martin (Priscilla Lane) along the way, and she joins him to find and bring the real criminals to justice.<br /><br />There are a lot of things wrong with this film. Robert Cummings was a good actor but he\\'s totally miscast in this role; Priscilla Lane is pretty but was never a good actress; the story doesn\\'t make a whole lot of sense (and rambles on longer than needed); it wears its patriotism a bit much (but this WAS made while WWII was in full swing) and there\\'s no ending. It shouldn\\'t work but it does.<br /><br />It\\'s full of bizarre lines and characters that certainly hold your interest.<br /><br />For example: Lane says to Cummings (while they\\'re falling in love), \"I wish I could have met you a hundred years ago\" (????!!!!); Lane PAYS a villain for getting her lunch and Cummings and Lane join a circus troupe briefly while on the run. Also Hitchcock\\'s direction was (as always) just great--he throws in some truly amazing shots and sequences--especially the Statue of Liberty climax. <br /><br />This is not one of Hitchcock\\'s classic movie but is still very good and worth catching.'"
      ]
     },
     "execution_count": 149,
     "metadata": {},
     "output_type": "execute_result"
    }
   ],
   "source": [
    "df.iloc[5,0]"
   ]
  },
  {
   "cell_type": "code",
   "execution_count": 150,
   "id": "4e8938ba-f4a6-46c6-af93-d0dc1e3f537a",
   "metadata": {},
   "outputs": [
    {
     "data": {
      "text/plain": [
       "'Barry Kane (Robert Cummings) is wrongfully accused on sabotaging a hanger making aircrafts for the war. He goes on the run, meets Patricia Martin (Priscilla Lane) along the way, and she joins him to find and bring the real criminals to justice.There are a lot of things wrong with this film. Robert Cummings was a good actor but he\\'s totally miscast in this role; Priscilla Lane is pretty but was never a good actress; the story doesn\\'t make a whole lot of sense (and rambles on longer than needed); it wears its patriotism a bit much (but this WAS made while WWII was in full swing) and there\\'s no ending. It shouldn\\'t work but it does.It\\'s full of bizarre lines and characters that certainly hold your interest.For example: Lane says to Cummings (while they\\'re falling in love), \"I wish I could have met you a hundred years ago\" (????!!!!); Lane PAYS a villain for getting her lunch and Cummings and Lane join a circus troupe briefly while on the run. Also Hitchcock\\'s direction was (as always) just great--he throws in some truly amazing shots and sequences--especially the Statue of Liberty climax. This is not one of Hitchcock\\'s classic movie but is still very good and worth catching.'"
      ]
     },
     "execution_count": 150,
     "metadata": {},
     "output_type": "execute_result"
    }
   ],
   "source": [
    "import re\n",
    "clean=re.compile(\"<.*?>\")\n",
    "re.sub(clean,\"\",df.iloc[5].review)"
   ]
  },
  {
   "cell_type": "code",
   "execution_count": 629,
   "id": "1879a63c-04b4-4d8b-80d2-0382a0d0c26f",
   "metadata": {},
   "outputs": [],
   "source": [
    "df2=df.copy()"
   ]
  },
  {
   "cell_type": "code",
   "execution_count": 630,
   "id": "3aacae6c-5fbe-4942-90a9-61030ba40529",
   "metadata": {},
   "outputs": [],
   "source": [
    "# function \n",
    "\n",
    "import re\n",
    "def clean_tags(text):\n",
    "    clean=re.compile(\"<.*?>\")\n",
    "    return re.sub(clean,\"\",text)"
   ]
  },
  {
   "cell_type": "code",
   "execution_count": 631,
   "id": "a7bda507-c3c0-4c7b-b3e4-6659ea1b47aa",
   "metadata": {},
   "outputs": [],
   "source": [
    "df2[\"review\"]=df2[\"review\"].apply(clean_tags)"
   ]
  },
  {
   "cell_type": "code",
   "execution_count": 632,
   "id": "8fb08eec-1705-405b-b1d5-d70513e11613",
   "metadata": {},
   "outputs": [
    {
     "data": {
      "text/plain": [
       "966      The problem is the role of the characters in t...\n",
       "38736    Joan Fontaine stars as the villain in this Vic...\n",
       "36320    A criminally short lived show that went on to ...\n",
       "25168    one of the most awaited movie!i thought himesh...\n",
       "11829    Such great actors such a disappointment. Marlo...\n",
       "                               ...                        \n",
       "9871     This is perhaps the most ridiculous crap I hav...\n",
       "16762    Scott's collection of 80's icons cannot save t...\n",
       "37004    Bamboo House of Dolls (1973, 1974 or 1977, var...\n",
       "41575    I had seen Marion Davies in a couple of movies...\n",
       "16854    This film was strongly recommended by a friend...\n",
       "Name: review, Length: 10000, dtype: object"
      ]
     },
     "execution_count": 632,
     "metadata": {},
     "output_type": "execute_result"
    }
   ],
   "source": [
    "df2[\"review\"]"
   ]
  },
  {
   "cell_type": "code",
   "execution_count": 633,
   "id": "7cfa7aa5-9d00-4605-af15-a16f1fb8cbe6",
   "metadata": {},
   "outputs": [],
   "source": [
    "def to_lower(text):\n",
    "    return text.lower()"
   ]
  },
  {
   "cell_type": "code",
   "execution_count": 634,
   "id": "73d145b3-9058-47c0-9f45-424733f99bd4",
   "metadata": {},
   "outputs": [],
   "source": [
    "df2[\"review\"]=df2[\"review\"].apply(to_lower)"
   ]
  },
  {
   "cell_type": "code",
   "execution_count": 635,
   "id": "d17d7be7-0ffd-4d64-8b93-b1025c109491",
   "metadata": {},
   "outputs": [
    {
     "data": {
      "text/plain": [
       "\"the problem is the role of the characters in the film. man to man shows a british anthropologist kidnapping two pygmies and taking them to scotland and then realising that they are not animals or subhumans but actually equal to himself. the problem is the role of the pygmies in the film - two people who are kidnapped, treated like animals, and yet given such a shallow, stereotypical role within the film... the kidnapper (british anthropologist) ends up being the hero of the film because he 'manages' to relate to the pygmies... no notion of how the two hostages feel, of their point of view, of their ordeal... i find it is a shallow film, with a one sided fundamentally racist view... it never manages to move away from the 'white mans' view\""
      ]
     },
     "execution_count": 635,
     "metadata": {},
     "output_type": "execute_result"
    }
   ],
   "source": [
    "df2.loc[966,\"review\"]"
   ]
  },
  {
   "cell_type": "code",
   "execution_count": 636,
   "id": "83008cd6-1fad-4355-8522-a393bf184dea",
   "metadata": {},
   "outputs": [],
   "source": [
    "def remove_special_char(text):\n",
    "    x=\"\"\n",
    "    for i in text:\n",
    "        if i.isalnum():\n",
    "            x=x+i\n",
    "        else:\n",
    "            x=x+\" \"\n",
    "    return x"
   ]
  },
  {
   "cell_type": "code",
   "execution_count": 637,
   "id": "ec5acd54-8db5-417f-87ca-d486c6194aa4",
   "metadata": {},
   "outputs": [
    {
     "data": {
      "text/plain": [
       "'the problem is the role of the characters in the film  man to man shows a british anthropologist kidnapping two pygmies and taking them to scotland and then realising that they are not animals or subhumans but actually equal to himself  the problem is the role of the pygmies in the film   two people who are kidnapped  treated like animals  and yet given such a shallow  stereotypical role within the film    the kidnapper  british anthropologist  ends up being the hero of the film because he  manages  to relate to the pygmies    no notion of how the two hostages feel  of their point of view  of their ordeal    i find it is a shallow film  with a one sided fundamentally racist view    it never manages to move away from the  white mans  view'"
      ]
     },
     "execution_count": 637,
     "metadata": {},
     "output_type": "execute_result"
    }
   ],
   "source": [
    "df2[\"review\"]=df2[\"review\"].apply(remove_special_char)\n",
    "df2.loc[966,\"review\"]"
   ]
  },
  {
   "cell_type": "code",
   "execution_count": 638,
   "id": "27a80bc5-ef15-40ed-829f-65044deb7725",
   "metadata": {},
   "outputs": [
    {
     "data": {
      "text/html": [
       "<div>\n",
       "<style scoped>\n",
       "    .dataframe tbody tr th:only-of-type {\n",
       "        vertical-align: middle;\n",
       "    }\n",
       "\n",
       "    .dataframe tbody tr th {\n",
       "        vertical-align: top;\n",
       "    }\n",
       "\n",
       "    .dataframe thead th {\n",
       "        text-align: right;\n",
       "    }\n",
       "</style>\n",
       "<table border=\"1\" class=\"dataframe\">\n",
       "  <thead>\n",
       "    <tr style=\"text-align: right;\">\n",
       "      <th></th>\n",
       "      <th>review</th>\n",
       "      <th>sentiment</th>\n",
       "    </tr>\n",
       "  </thead>\n",
       "  <tbody>\n",
       "    <tr>\n",
       "      <th>966</th>\n",
       "      <td>the problem is the role of the characters in t...</td>\n",
       "      <td>0</td>\n",
       "    </tr>\n",
       "    <tr>\n",
       "      <th>38736</th>\n",
       "      <td>joan fontaine stars as the villain in this vic...</td>\n",
       "      <td>1</td>\n",
       "    </tr>\n",
       "    <tr>\n",
       "      <th>36320</th>\n",
       "      <td>a criminally short lived show that went on to ...</td>\n",
       "      <td>1</td>\n",
       "    </tr>\n",
       "    <tr>\n",
       "      <th>25168</th>\n",
       "      <td>one of the most awaited movie i thought himesh...</td>\n",
       "      <td>0</td>\n",
       "    </tr>\n",
       "    <tr>\n",
       "      <th>11829</th>\n",
       "      <td>such great actors such a disappointment  marlo...</td>\n",
       "      <td>0</td>\n",
       "    </tr>\n",
       "  </tbody>\n",
       "</table>\n",
       "</div>"
      ],
      "text/plain": [
       "                                                  review  sentiment\n",
       "966    the problem is the role of the characters in t...          0\n",
       "38736  joan fontaine stars as the villain in this vic...          1\n",
       "36320  a criminally short lived show that went on to ...          1\n",
       "25168  one of the most awaited movie i thought himesh...          0\n",
       "11829  such great actors such a disappointment  marlo...          0"
      ]
     },
     "execution_count": 638,
     "metadata": {},
     "output_type": "execute_result"
    }
   ],
   "source": [
    "df2.head()"
   ]
  },
  {
   "cell_type": "code",
   "execution_count": 639,
   "id": "200df23a-95b3-465f-a151-930070111013",
   "metadata": {},
   "outputs": [
    {
     "data": {
      "text/plain": [
       "'what is th e ag e of him'"
      ]
     },
     "execution_count": 639,
     "metadata": {},
     "output_type": "execute_result"
    }
   ],
   "source": [
    "remove_special_char(\"what is th/e ag@e of him\")"
   ]
  },
  {
   "cell_type": "code",
   "execution_count": 640,
   "id": "6c53ef15-3b0b-4f68-8bdd-9efe0b9d4ba9",
   "metadata": {},
   "outputs": [],
   "source": [
    "import nltk"
   ]
  },
  {
   "cell_type": "code",
   "execution_count": 641,
   "id": "a4852046-9fe7-4c22-8c83-5e07a8040926",
   "metadata": {},
   "outputs": [
    {
     "name": "stderr",
     "output_type": "stream",
     "text": [
      "[nltk_data] Downloading package stopwords to\n",
      "[nltk_data]     /Users/rabinpoudel/nltk_data...\n",
      "[nltk_data]   Package stopwords is already up-to-date!\n"
     ]
    },
    {
     "data": {
      "text/plain": [
       "True"
      ]
     },
     "execution_count": 641,
     "metadata": {},
     "output_type": "execute_result"
    }
   ],
   "source": [
    "nltk.download('stopwords')"
   ]
  },
  {
   "cell_type": "code",
   "execution_count": 642,
   "id": "feaa38ce-6b31-4ebb-b99a-2514f466b972",
   "metadata": {},
   "outputs": [],
   "source": [
    "from nltk.corpus import stopwords"
   ]
  },
  {
   "cell_type": "code",
   "execution_count": 643,
   "id": "40a8560a-8c93-4a7c-bb23-554b5238250f",
   "metadata": {
    "scrolled": true
   },
   "outputs": [
    {
     "data": {
      "text/plain": [
       "['a',\n",
       " 'about',\n",
       " 'above',\n",
       " 'after',\n",
       " 'again',\n",
       " 'against',\n",
       " 'ain',\n",
       " 'all',\n",
       " 'am',\n",
       " 'an',\n",
       " 'and',\n",
       " 'any',\n",
       " 'are',\n",
       " 'aren',\n",
       " \"aren't\",\n",
       " 'as',\n",
       " 'at',\n",
       " 'be',\n",
       " 'because',\n",
       " 'been',\n",
       " 'before',\n",
       " 'being',\n",
       " 'below',\n",
       " 'between',\n",
       " 'both',\n",
       " 'but',\n",
       " 'by',\n",
       " 'can',\n",
       " 'couldn',\n",
       " \"couldn't\",\n",
       " 'd',\n",
       " 'did',\n",
       " 'didn',\n",
       " \"didn't\",\n",
       " 'do',\n",
       " 'does',\n",
       " 'doesn',\n",
       " \"doesn't\",\n",
       " 'doing',\n",
       " 'don',\n",
       " \"don't\",\n",
       " 'down',\n",
       " 'during',\n",
       " 'each',\n",
       " 'few',\n",
       " 'for',\n",
       " 'from',\n",
       " 'further',\n",
       " 'had',\n",
       " 'hadn',\n",
       " \"hadn't\",\n",
       " 'has',\n",
       " 'hasn',\n",
       " \"hasn't\",\n",
       " 'have',\n",
       " 'haven',\n",
       " \"haven't\",\n",
       " 'having',\n",
       " 'he',\n",
       " \"he'd\",\n",
       " \"he'll\",\n",
       " 'her',\n",
       " 'here',\n",
       " 'hers',\n",
       " 'herself',\n",
       " \"he's\",\n",
       " 'him',\n",
       " 'himself',\n",
       " 'his',\n",
       " 'how',\n",
       " 'i',\n",
       " \"i'd\",\n",
       " 'if',\n",
       " \"i'll\",\n",
       " \"i'm\",\n",
       " 'in',\n",
       " 'into',\n",
       " 'is',\n",
       " 'isn',\n",
       " \"isn't\",\n",
       " 'it',\n",
       " \"it'd\",\n",
       " \"it'll\",\n",
       " \"it's\",\n",
       " 'its',\n",
       " 'itself',\n",
       " \"i've\",\n",
       " 'just',\n",
       " 'll',\n",
       " 'm',\n",
       " 'ma',\n",
       " 'me',\n",
       " 'mightn',\n",
       " \"mightn't\",\n",
       " 'more',\n",
       " 'most',\n",
       " 'mustn',\n",
       " \"mustn't\",\n",
       " 'my',\n",
       " 'myself',\n",
       " 'needn',\n",
       " \"needn't\",\n",
       " 'no',\n",
       " 'nor',\n",
       " 'not',\n",
       " 'now',\n",
       " 'o',\n",
       " 'of',\n",
       " 'off',\n",
       " 'on',\n",
       " 'once',\n",
       " 'only',\n",
       " 'or',\n",
       " 'other',\n",
       " 'our',\n",
       " 'ours',\n",
       " 'ourselves',\n",
       " 'out',\n",
       " 'over',\n",
       " 'own',\n",
       " 're',\n",
       " 's',\n",
       " 'same',\n",
       " 'shan',\n",
       " \"shan't\",\n",
       " 'she',\n",
       " \"she'd\",\n",
       " \"she'll\",\n",
       " \"she's\",\n",
       " 'should',\n",
       " 'shouldn',\n",
       " \"shouldn't\",\n",
       " \"should've\",\n",
       " 'so',\n",
       " 'some',\n",
       " 'such',\n",
       " 't',\n",
       " 'than',\n",
       " 'that',\n",
       " \"that'll\",\n",
       " 'the',\n",
       " 'their',\n",
       " 'theirs',\n",
       " 'them',\n",
       " 'themselves',\n",
       " 'then',\n",
       " 'there',\n",
       " 'these',\n",
       " 'they',\n",
       " \"they'd\",\n",
       " \"they'll\",\n",
       " \"they're\",\n",
       " \"they've\",\n",
       " 'this',\n",
       " 'those',\n",
       " 'through',\n",
       " 'to',\n",
       " 'too',\n",
       " 'under',\n",
       " 'until',\n",
       " 'up',\n",
       " 've',\n",
       " 'very',\n",
       " 'was',\n",
       " 'wasn',\n",
       " \"wasn't\",\n",
       " 'we',\n",
       " \"we'd\",\n",
       " \"we'll\",\n",
       " \"we're\",\n",
       " 'were',\n",
       " 'weren',\n",
       " \"weren't\",\n",
       " \"we've\",\n",
       " 'what',\n",
       " 'when',\n",
       " 'where',\n",
       " 'which',\n",
       " 'while',\n",
       " 'who',\n",
       " 'whom',\n",
       " 'why',\n",
       " 'will',\n",
       " 'with',\n",
       " 'won',\n",
       " \"won't\",\n",
       " 'wouldn',\n",
       " \"wouldn't\",\n",
       " 'y',\n",
       " 'you',\n",
       " \"you'd\",\n",
       " \"you'll\",\n",
       " 'your',\n",
       " \"you're\",\n",
       " 'yours',\n",
       " 'yourself',\n",
       " 'yourselves',\n",
       " \"you've\"]"
      ]
     },
     "execution_count": 643,
     "metadata": {},
     "output_type": "execute_result"
    }
   ],
   "source": [
    "stopwords.words(\"english\")"
   ]
  },
  {
   "cell_type": "code",
   "execution_count": 644,
   "id": "25ee58f5-be00-4aec-99fa-274769cb33c4",
   "metadata": {
    "scrolled": true
   },
   "outputs": [
    {
     "data": {
      "text/plain": [
       "['छ',\n",
       " 'र',\n",
       " 'पनि',\n",
       " 'छन्',\n",
       " 'लागि',\n",
       " 'भएको',\n",
       " 'गरेको',\n",
       " 'भने',\n",
       " 'गर्न',\n",
       " 'गर्ने',\n",
       " 'हो',\n",
       " 'तथा',\n",
       " 'यो',\n",
       " 'रहेको',\n",
       " 'उनले',\n",
       " 'थियो',\n",
       " 'हुने',\n",
       " 'गरेका',\n",
       " 'थिए',\n",
       " 'गर्दै',\n",
       " 'तर',\n",
       " 'नै',\n",
       " 'को',\n",
       " 'मा',\n",
       " 'हुन्',\n",
       " 'भन्ने',\n",
       " 'हुन',\n",
       " 'गरी',\n",
       " 'त',\n",
       " 'हुन्छ',\n",
       " 'अब',\n",
       " 'के',\n",
       " 'रहेका',\n",
       " 'गरेर',\n",
       " 'छैन',\n",
       " 'दिए',\n",
       " 'भए',\n",
       " 'यस',\n",
       " 'ले',\n",
       " 'गर्नु',\n",
       " 'औं',\n",
       " 'सो',\n",
       " 'त्यो',\n",
       " 'कि',\n",
       " 'जुन',\n",
       " 'यी',\n",
       " 'का',\n",
       " 'गरि',\n",
       " 'ती',\n",
       " 'न',\n",
       " 'छु',\n",
       " 'छौं',\n",
       " 'लाई',\n",
       " 'नि',\n",
       " 'उप',\n",
       " 'अक्सर',\n",
       " 'आदि',\n",
       " 'कसरी',\n",
       " 'क्रमशः',\n",
       " 'चाले',\n",
       " 'अगाडी',\n",
       " 'अझै',\n",
       " 'अनुसार',\n",
       " 'अन्तर्गत',\n",
       " 'अन्य',\n",
       " 'अन्यत्र',\n",
       " 'अन्यथा',\n",
       " 'अरु',\n",
       " 'अरुलाई',\n",
       " 'अर्को',\n",
       " 'अर्थात',\n",
       " 'अर्थात्',\n",
       " 'अलग',\n",
       " 'आए',\n",
       " 'आजको',\n",
       " 'ओठ',\n",
       " 'आत्म',\n",
       " 'आफू',\n",
       " 'आफूलाई',\n",
       " 'आफ्नै',\n",
       " 'आफ्नो',\n",
       " 'आयो',\n",
       " 'उदाहरण',\n",
       " 'उनको',\n",
       " 'उहालाई',\n",
       " 'एउटै',\n",
       " 'एक',\n",
       " 'एकदम',\n",
       " 'कतै',\n",
       " 'कम से कम',\n",
       " 'कसै',\n",
       " 'कसैले',\n",
       " 'कहाँबाट',\n",
       " 'कहिलेकाहीं',\n",
       " 'का',\n",
       " 'किन',\n",
       " 'किनभने',\n",
       " 'कुनै',\n",
       " 'कुरा',\n",
       " 'कृपया',\n",
       " 'केही',\n",
       " 'कोही',\n",
       " 'गए',\n",
       " 'गरौं',\n",
       " 'गर्छ',\n",
       " 'गर्छु',\n",
       " 'गर्नुपर्छ',\n",
       " 'गयौ',\n",
       " 'गैर',\n",
       " 'चार',\n",
       " 'चाहनुहुन्छ',\n",
       " 'चाहन्छु',\n",
       " 'चाहिए',\n",
       " 'छू',\n",
       " 'जताततै',\n",
       " 'जब',\n",
       " 'जबकि',\n",
       " 'जसको',\n",
       " 'जसबाट',\n",
       " 'जसमा',\n",
       " 'जसलाई',\n",
       " 'जसले',\n",
       " 'जस्तै',\n",
       " 'जस्तो',\n",
       " 'जस्तोसुकै',\n",
       " 'जहाँ',\n",
       " 'जान',\n",
       " 'जाहिर',\n",
       " 'जे',\n",
       " 'जो',\n",
       " 'ठीक',\n",
       " 'तत्काल',\n",
       " 'तदनुसार',\n",
       " 'तपाईको',\n",
       " 'तपाई',\n",
       " 'पर्याप्त',\n",
       " 'पहिले',\n",
       " 'पहिलो',\n",
       " 'पहिल्यै',\n",
       " 'पाँच',\n",
       " 'पाँचौं',\n",
       " 'तल',\n",
       " 'तापनी',\n",
       " 'तिनी',\n",
       " 'तिनीहरू',\n",
       " 'तिनीहरुको',\n",
       " 'तिनिहरुलाई',\n",
       " 'तिमी',\n",
       " 'तिर',\n",
       " 'तीन',\n",
       " 'तुरुन्तै',\n",
       " 'तेस्रो',\n",
       " 'तेस्कारण',\n",
       " 'पूर्व',\n",
       " 'प्रति',\n",
       " 'प्रतेक',\n",
       " 'प्लस',\n",
       " 'फेरी',\n",
       " 'बने',\n",
       " 'त्सपछि',\n",
       " 'त्सैले',\n",
       " 'त्यहाँ',\n",
       " 'थिएन',\n",
       " 'दिनुभएको',\n",
       " 'दिनुहुन्छ',\n",
       " 'दुई',\n",
       " 'देखि',\n",
       " 'बरु',\n",
       " 'बारे',\n",
       " 'बाहिर',\n",
       " 'देखिन्छ',\n",
       " 'देखियो',\n",
       " 'देखे',\n",
       " 'देखेको',\n",
       " 'देखेर',\n",
       " 'दोस्रो',\n",
       " 'धेरै',\n",
       " 'नजिकै',\n",
       " 'नत्र',\n",
       " 'नयाँ',\n",
       " 'निम्ति',\n",
       " 'बाहेक',\n",
       " 'बीच',\n",
       " 'बीचमा',\n",
       " 'भन',\n",
       " 'निम्न',\n",
       " 'निम्नानुसार',\n",
       " 'निर्दिष्ट',\n",
       " 'नौ',\n",
       " 'पक्का',\n",
       " 'पक्कै',\n",
       " 'पछि',\n",
       " 'पछिल्लो',\n",
       " 'पटक',\n",
       " 'पर्छ',\n",
       " 'पर्थ्यो',\n",
       " 'भन्छन्',\n",
       " 'भन्',\n",
       " 'भन्छु',\n",
       " 'भन्दा',\n",
       " 'भन्नुभयो',\n",
       " 'भर',\n",
       " 'भित्र',\n",
       " 'भित्री',\n",
       " 'म',\n",
       " 'मलाई',\n",
       " 'मात्र',\n",
       " 'माथि',\n",
       " 'मुख्य',\n",
       " 'मेरो',\n",
       " 'यति',\n",
       " 'यथोचित',\n",
       " 'यदि',\n",
       " 'यद्यपि',\n",
       " 'यसको',\n",
       " 'यसपछि',\n",
       " 'यसबाहेक',\n",
       " 'यसरी',\n",
       " 'यसो',\n",
       " 'यस्तो',\n",
       " 'यहाँ',\n",
       " 'यहाँसम्म',\n",
       " 'या',\n",
       " 'रही',\n",
       " 'राखे',\n",
       " 'राख्छ',\n",
       " 'राम्रो',\n",
       " 'रूप',\n",
       " 'लगभग',\n",
       " 'वरीपरी',\n",
       " 'वास्तवमा',\n",
       " 'बिरुद्ध',\n",
       " 'बिशेष',\n",
       " 'सायद',\n",
       " 'शायद',\n",
       " 'संग',\n",
       " 'संगै',\n",
       " 'सक्छ',\n",
       " 'सट्टा',\n",
       " 'सधै',\n",
       " 'सबै',\n",
       " 'सबैलाई',\n",
       " 'समय',\n",
       " 'सम्भव',\n",
       " 'सम्म',\n",
       " 'सही',\n",
       " 'साँच्चै',\n",
       " 'सात',\n",
       " 'साथ',\n",
       " 'साथै',\n",
       " 'सारा',\n",
       " 'सोही',\n",
       " 'स्पष्ट',\n",
       " 'हरे',\n",
       " 'हरेक']"
      ]
     },
     "execution_count": 644,
     "metadata": {},
     "output_type": "execute_result"
    }
   ],
   "source": [
    "stopwords.words(\"nepali\")"
   ]
  },
  {
   "cell_type": "code",
   "execution_count": 645,
   "id": "72b99875-a479-41d9-821f-816bffb44f84",
   "metadata": {},
   "outputs": [
    {
     "data": {
      "text/plain": [
       "255"
      ]
     },
     "execution_count": 645,
     "metadata": {},
     "output_type": "execute_result"
    }
   ],
   "source": [
    "len(stopwords.words(\"nepali\"))"
   ]
  },
  {
   "cell_type": "code",
   "execution_count": 646,
   "id": "c2d345f7-73bd-4b99-a2b0-d80adafbdced",
   "metadata": {},
   "outputs": [],
   "source": [
    "def stopwords_filter1(text):\n",
    "    x=[]\n",
    "    for i in text.split():\n",
    "        if i not in stopwords.words(\"english\"):\n",
    "            x.append(i)\n",
    "    y=x[:]\n",
    "    x.clear()\n",
    "    return y\n",
    "        "
   ]
  },
  {
   "cell_type": "code",
   "execution_count": 647,
   "id": "9c7501c2-b8a5-4fad-a362-ff36a142ce55",
   "metadata": {},
   "outputs": [],
   "source": [
    "def stopwords_filter2(text):\n",
    "    stop=set(stopwords.words(\"english\"))\n",
    "    return [word for word in text.split() if word.lower() not in stop]"
   ]
  },
  {
   "cell_type": "code",
   "execution_count": 648,
   "id": "f32d71d4-4ee9-44e5-aab5-8a45c5abbf7b",
   "metadata": {},
   "outputs": [],
   "source": [
    "import time \n",
    "df3=df2.copy()"
   ]
  },
  {
   "cell_type": "code",
   "execution_count": 649,
   "id": "fcc7c026-1f96-470b-ad7b-a8887ad92808",
   "metadata": {},
   "outputs": [
    {
     "name": "stdout",
     "output_type": "stream",
     "text": [
      "68.11782598495483\n"
     ]
    }
   ],
   "source": [
    "t=time.time()\n",
    "df2[\"review\"]=df2[\"review\"].apply(stopwords_filter1)\n",
    "print(time.time()-t)"
   ]
  },
  {
   "cell_type": "code",
   "execution_count": 650,
   "id": "92634915-c382-47ae-8f7d-176d2ed2dead",
   "metadata": {
    "scrolled": true
   },
   "outputs": [
    {
     "data": {
      "text/plain": [
       "['problem',\n",
       " 'role',\n",
       " 'characters',\n",
       " 'film',\n",
       " 'man',\n",
       " 'man',\n",
       " 'shows',\n",
       " 'british',\n",
       " 'anthropologist',\n",
       " 'kidnapping',\n",
       " 'two',\n",
       " 'pygmies',\n",
       " 'taking',\n",
       " 'scotland',\n",
       " 'realising',\n",
       " 'animals',\n",
       " 'subhumans',\n",
       " 'actually',\n",
       " 'equal',\n",
       " 'problem',\n",
       " 'role',\n",
       " 'pygmies',\n",
       " 'film',\n",
       " 'two',\n",
       " 'people',\n",
       " 'kidnapped',\n",
       " 'treated',\n",
       " 'like',\n",
       " 'animals',\n",
       " 'yet',\n",
       " 'given',\n",
       " 'shallow',\n",
       " 'stereotypical',\n",
       " 'role',\n",
       " 'within',\n",
       " 'film',\n",
       " 'kidnapper',\n",
       " 'british',\n",
       " 'anthropologist',\n",
       " 'ends',\n",
       " 'hero',\n",
       " 'film',\n",
       " 'manages',\n",
       " 'relate',\n",
       " 'pygmies',\n",
       " 'notion',\n",
       " 'two',\n",
       " 'hostages',\n",
       " 'feel',\n",
       " 'point',\n",
       " 'view',\n",
       " 'ordeal',\n",
       " 'find',\n",
       " 'shallow',\n",
       " 'film',\n",
       " 'one',\n",
       " 'sided',\n",
       " 'fundamentally',\n",
       " 'racist',\n",
       " 'view',\n",
       " 'never',\n",
       " 'manages',\n",
       " 'move',\n",
       " 'away',\n",
       " 'white',\n",
       " 'mans',\n",
       " 'view']"
      ]
     },
     "execution_count": 650,
     "metadata": {},
     "output_type": "execute_result"
    }
   ],
   "source": [
    "df2.loc[966,\"review\"]"
   ]
  },
  {
   "cell_type": "code",
   "execution_count": 651,
   "id": "7e9f2e14-df1d-401e-bfef-bd1c76d35ffd",
   "metadata": {},
   "outputs": [
    {
     "name": "stdout",
     "output_type": "stream",
     "text": [
      "0.5131921768188477\n"
     ]
    }
   ],
   "source": [
    "t=time.time()\n",
    "df3[\"review\"]=df3[\"review\"].apply(stopwords_filter2)\n",
    "print(time.time()-t)"
   ]
  },
  {
   "cell_type": "code",
   "execution_count": 652,
   "id": "c818466d-3a07-44ee-b93c-32000d2c5a76",
   "metadata": {
    "scrolled": true
   },
   "outputs": [
    {
     "data": {
      "text/plain": [
       "['problem',\n",
       " 'role',\n",
       " 'characters',\n",
       " 'film',\n",
       " 'man',\n",
       " 'man',\n",
       " 'shows',\n",
       " 'british',\n",
       " 'anthropologist',\n",
       " 'kidnapping',\n",
       " 'two',\n",
       " 'pygmies',\n",
       " 'taking',\n",
       " 'scotland',\n",
       " 'realising',\n",
       " 'animals',\n",
       " 'subhumans',\n",
       " 'actually',\n",
       " 'equal',\n",
       " 'problem',\n",
       " 'role',\n",
       " 'pygmies',\n",
       " 'film',\n",
       " 'two',\n",
       " 'people',\n",
       " 'kidnapped',\n",
       " 'treated',\n",
       " 'like',\n",
       " 'animals',\n",
       " 'yet',\n",
       " 'given',\n",
       " 'shallow',\n",
       " 'stereotypical',\n",
       " 'role',\n",
       " 'within',\n",
       " 'film',\n",
       " 'kidnapper',\n",
       " 'british',\n",
       " 'anthropologist',\n",
       " 'ends',\n",
       " 'hero',\n",
       " 'film',\n",
       " 'manages',\n",
       " 'relate',\n",
       " 'pygmies',\n",
       " 'notion',\n",
       " 'two',\n",
       " 'hostages',\n",
       " 'feel',\n",
       " 'point',\n",
       " 'view',\n",
       " 'ordeal',\n",
       " 'find',\n",
       " 'shallow',\n",
       " 'film',\n",
       " 'one',\n",
       " 'sided',\n",
       " 'fundamentally',\n",
       " 'racist',\n",
       " 'view',\n",
       " 'never',\n",
       " 'manages',\n",
       " 'move',\n",
       " 'away',\n",
       " 'white',\n",
       " 'mans',\n",
       " 'view']"
      ]
     },
     "execution_count": 652,
     "metadata": {},
     "output_type": "execute_result"
    }
   ],
   "source": [
    "df3.loc[966,\"review\"]"
   ]
  },
  {
   "cell_type": "code",
   "execution_count": 653,
   "id": "582a2c3c-ba73-4434-9856-8699e7ed9ccc",
   "metadata": {},
   "outputs": [
    {
     "name": "stdout",
     "output_type": "stream",
     "text": [
      "0.5100769996643066\n"
     ]
    }
   ],
   "source": [
    "df4=df.copy()\n",
    "t=time.time()\n",
    "df4[\"review\"]=df4[\"review\"].apply(stopwords_filter2)\n",
    "print(time.time()-t)"
   ]
  },
  {
   "cell_type": "code",
   "execution_count": 654,
   "id": "d76393ac-311e-4892-9fff-b7def109d2d3",
   "metadata": {
    "scrolled": true
   },
   "outputs": [
    {
     "data": {
      "text/plain": [
       "['problem',\n",
       " 'role',\n",
       " 'characters',\n",
       " 'film.',\n",
       " 'Man',\n",
       " 'Man',\n",
       " 'shows',\n",
       " 'British',\n",
       " 'anthropologist',\n",
       " 'kidnapping',\n",
       " 'two',\n",
       " 'pygmies',\n",
       " 'taking',\n",
       " 'Scotland',\n",
       " 'realising',\n",
       " 'animals',\n",
       " 'subhumans',\n",
       " 'actually',\n",
       " 'equal',\n",
       " 'himself.',\n",
       " 'problem',\n",
       " 'role',\n",
       " 'pygmies',\n",
       " 'film',\n",
       " '-',\n",
       " 'two',\n",
       " 'people',\n",
       " 'kidnapped,',\n",
       " 'treated',\n",
       " 'like',\n",
       " 'animals,',\n",
       " 'yet',\n",
       " 'given',\n",
       " 'shallow,',\n",
       " 'stereotypical',\n",
       " 'role',\n",
       " 'within',\n",
       " 'film...',\n",
       " 'kidnapper',\n",
       " '(british',\n",
       " 'anthropologist)',\n",
       " 'ends',\n",
       " 'hero',\n",
       " 'film',\n",
       " \"'manages'\",\n",
       " 'relate',\n",
       " 'pygmies...',\n",
       " 'notion',\n",
       " 'two',\n",
       " 'hostages',\n",
       " 'feel,',\n",
       " 'point',\n",
       " 'view,',\n",
       " 'ordeal...',\n",
       " 'find',\n",
       " 'shallow',\n",
       " 'film,',\n",
       " 'one',\n",
       " 'sided',\n",
       " 'fundamentally',\n",
       " 'racist',\n",
       " 'view...',\n",
       " 'never',\n",
       " 'manages',\n",
       " 'move',\n",
       " 'away',\n",
       " \"'white\",\n",
       " \"mans'\",\n",
       " 'view']"
      ]
     },
     "execution_count": 654,
     "metadata": {},
     "output_type": "execute_result"
    }
   ],
   "source": [
    "df4.loc[966,\"review\"]"
   ]
  },
  {
   "cell_type": "markdown",
   "id": "adc87582-d6ee-4ffc-b279-e9335d6644db",
   "metadata": {},
   "source": [
    "#                           --------------------------------"
   ]
  },
  {
   "cell_type": "code",
   "execution_count": 656,
   "id": "805b9766-cab7-4146-802c-00d63df06404",
   "metadata": {},
   "outputs": [
    {
     "data": {
      "text/html": [
       "<div>\n",
       "<style scoped>\n",
       "    .dataframe tbody tr th:only-of-type {\n",
       "        vertical-align: middle;\n",
       "    }\n",
       "\n",
       "    .dataframe tbody tr th {\n",
       "        vertical-align: top;\n",
       "    }\n",
       "\n",
       "    .dataframe thead th {\n",
       "        text-align: right;\n",
       "    }\n",
       "</style>\n",
       "<table border=\"1\" class=\"dataframe\">\n",
       "  <thead>\n",
       "    <tr style=\"text-align: right;\">\n",
       "      <th></th>\n",
       "      <th>review</th>\n",
       "      <th>sentiment</th>\n",
       "    </tr>\n",
       "  </thead>\n",
       "  <tbody>\n",
       "    <tr>\n",
       "      <th>966</th>\n",
       "      <td>[problem, role, characters, film, man, man, sh...</td>\n",
       "      <td>0</td>\n",
       "    </tr>\n",
       "    <tr>\n",
       "      <th>38736</th>\n",
       "      <td>[joan, fontaine, stars, villain, victorian, er...</td>\n",
       "      <td>1</td>\n",
       "    </tr>\n",
       "    <tr>\n",
       "      <th>36320</th>\n",
       "      <td>[criminally, short, lived, show, went, spawn, ...</td>\n",
       "      <td>1</td>\n",
       "    </tr>\n",
       "    <tr>\n",
       "      <th>25168</th>\n",
       "      <td>[one, awaited, movie, thought, himesh, bit, ac...</td>\n",
       "      <td>0</td>\n",
       "    </tr>\n",
       "    <tr>\n",
       "      <th>11829</th>\n",
       "      <td>[great, actors, disappointment, marlon, brando...</td>\n",
       "      <td>0</td>\n",
       "    </tr>\n",
       "  </tbody>\n",
       "</table>\n",
       "</div>"
      ],
      "text/plain": [
       "                                                  review  sentiment\n",
       "966    [problem, role, characters, film, man, man, sh...          0\n",
       "38736  [joan, fontaine, stars, villain, victorian, er...          1\n",
       "36320  [criminally, short, lived, show, went, spawn, ...          1\n",
       "25168  [one, awaited, movie, thought, himesh, bit, ac...          0\n",
       "11829  [great, actors, disappointment, marlon, brando...          0"
      ]
     },
     "execution_count": 656,
     "metadata": {},
     "output_type": "execute_result"
    }
   ],
   "source": [
    "df2.head()"
   ]
  },
  {
   "cell_type": "code",
   "execution_count": 657,
   "id": "4a7291d4-978a-4142-9913-8e849d022c76",
   "metadata": {},
   "outputs": [
    {
     "data": {
      "text/plain": [
       "(10000, 2)"
      ]
     },
     "execution_count": 657,
     "metadata": {},
     "output_type": "execute_result"
    }
   ],
   "source": [
    "df2.shape"
   ]
  },
  {
   "cell_type": "markdown",
   "id": "b5d31c66-b096-4227-919c-ebaf7f68a5d2",
   "metadata": {},
   "source": [
    "# Stemming "
   ]
  },
  {
   "cell_type": "code",
   "execution_count": 659,
   "id": "7aaa1ae6-16b5-40ff-b9f7-ffe31df47729",
   "metadata": {},
   "outputs": [],
   "source": [
    "from nltk.stem.porter import PorterStemmer\n",
    "ps=PorterStemmer()"
   ]
  },
  {
   "cell_type": "code",
   "execution_count": 660,
   "id": "2e37b89e-8200-4c74-b2da-70d3fda72c52",
   "metadata": {},
   "outputs": [],
   "source": [
    "y=[]\n",
    "def stem_words(text):\n",
    "    for i in text :\n",
    "        y.append(ps.stem(i))\n",
    "    z=y[:]\n",
    "    y.clear()\n",
    "    return z\n",
    "    #return [ps.stem(tok) for tok in text]"
   ]
  },
  {
   "cell_type": "code",
   "execution_count": 702,
   "id": "130e1004-fd4f-4359-bcd8-43a5194bca80",
   "metadata": {},
   "outputs": [
    {
     "data": {
      "text/plain": [
       "['love', 'love', 'love', 'walk', 'walk', 'move']"
      ]
     },
     "execution_count": 702,
     "metadata": {},
     "output_type": "execute_result"
    }
   ],
   "source": [
    "stem_words([\"loving\",\"love\",\"loved\",\"walk\",\"walking\",\"moving\"])"
   ]
  },
  {
   "cell_type": "code",
   "execution_count": 662,
   "id": "3ad2ac85-3c88-443a-b787-79457392a29f",
   "metadata": {},
   "outputs": [
    {
     "data": {
      "text/html": [
       "<div>\n",
       "<style scoped>\n",
       "    .dataframe tbody tr th:only-of-type {\n",
       "        vertical-align: middle;\n",
       "    }\n",
       "\n",
       "    .dataframe tbody tr th {\n",
       "        vertical-align: top;\n",
       "    }\n",
       "\n",
       "    .dataframe thead th {\n",
       "        text-align: right;\n",
       "    }\n",
       "</style>\n",
       "<table border=\"1\" class=\"dataframe\">\n",
       "  <thead>\n",
       "    <tr style=\"text-align: right;\">\n",
       "      <th></th>\n",
       "      <th>review</th>\n",
       "      <th>sentiment</th>\n",
       "    </tr>\n",
       "  </thead>\n",
       "  <tbody>\n",
       "    <tr>\n",
       "      <th>36762</th>\n",
       "      <td>[well, least, theater, group, lol, cours, reme...</td>\n",
       "      <td>0</td>\n",
       "    </tr>\n",
       "  </tbody>\n",
       "</table>\n",
       "</div>"
      ],
      "text/plain": [
       "                                                  review  sentiment\n",
       "36762  [well, least, theater, group, lol, cours, reme...          0"
      ]
     },
     "execution_count": 662,
     "metadata": {},
     "output_type": "execute_result"
    }
   ],
   "source": [
    "df2[\"review\"]=df2[\"review\"].apply(stem_words)\n",
    "df2.sample(1)\n"
   ]
  },
  {
   "cell_type": "code",
   "execution_count": 663,
   "id": "acb68736-b6d7-4b49-a9c7-e2b0da2f891a",
   "metadata": {},
   "outputs": [],
   "source": [
    "def join_back(text):\n",
    "    return \" \".join(text)"
   ]
  },
  {
   "cell_type": "code",
   "execution_count": 664,
   "id": "e97edb9d-13b4-47fc-a1df-8a5e1393235f",
   "metadata": {},
   "outputs": [
    {
     "data": {
      "text/html": [
       "<div>\n",
       "<style scoped>\n",
       "    .dataframe tbody tr th:only-of-type {\n",
       "        vertical-align: middle;\n",
       "    }\n",
       "\n",
       "    .dataframe tbody tr th {\n",
       "        vertical-align: top;\n",
       "    }\n",
       "\n",
       "    .dataframe thead th {\n",
       "        text-align: right;\n",
       "    }\n",
       "</style>\n",
       "<table border=\"1\" class=\"dataframe\">\n",
       "  <thead>\n",
       "    <tr style=\"text-align: right;\">\n",
       "      <th></th>\n",
       "      <th>review</th>\n",
       "      <th>sentiment</th>\n",
       "    </tr>\n",
       "  </thead>\n",
       "  <tbody>\n",
       "    <tr>\n",
       "      <th>25431</th>\n",
       "      <td>singl act charli wilson congressman real chara...</td>\n",
       "      <td>1</td>\n",
       "    </tr>\n",
       "  </tbody>\n",
       "</table>\n",
       "</div>"
      ],
      "text/plain": [
       "                                                  review  sentiment\n",
       "25431  singl act charli wilson congressman real chara...          1"
      ]
     },
     "execution_count": 664,
     "metadata": {},
     "output_type": "execute_result"
    }
   ],
   "source": [
    "df2[\"review\"]=df2[\"review\"].apply(join_back)\n",
    "df2.sample(1)"
   ]
  },
  {
   "cell_type": "code",
   "execution_count": 714,
   "id": "a3cd640f-dd30-4ffb-a4d0-967f4ed603e5",
   "metadata": {},
   "outputs": [],
   "source": [
    "X=df2.iloc[:,0]"
   ]
  },
  {
   "cell_type": "code",
   "execution_count": null,
   "id": "c279647a-4483-48a8-b4a0-f194b32fdf74",
   "metadata": {},
   "outputs": [],
   "source": [
    "X"
   ]
  }
 ],
 "metadata": {
  "kernelspec": {
   "display_name": "Python 3 (ipykernel)",
   "language": "python",
   "name": "python3"
  },
  "language_info": {
   "codemirror_mode": {
    "name": "ipython",
    "version": 3
   },
   "file_extension": ".py",
   "mimetype": "text/x-python",
   "name": "python",
   "nbconvert_exporter": "python",
   "pygments_lexer": "ipython3",
   "version": "3.12.7"
  }
 },
 "nbformat": 4,
 "nbformat_minor": 5
}
