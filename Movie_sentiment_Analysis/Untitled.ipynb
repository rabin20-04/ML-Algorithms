{
 "cells": [
  {
   "cell_type": "code",
   "execution_count": 136,
   "id": "cd888015-78a8-4441-96ca-d8232cad9a20",
   "metadata": {},
   "outputs": [],
   "source": [
    "import pandas as pd\n",
    "import numpy as np "
   ]
  },
  {
   "cell_type": "code",
   "execution_count": 137,
   "id": "8254eac8-47de-43ae-b1d4-fc29affddb64",
   "metadata": {},
   "outputs": [],
   "source": [
    "df1=pd.read_csv(\"files/IMDB_Dataset.csv\")\n",
    "df=df1.copy(deep=True)\n"
   ]
  },
  {
   "cell_type": "code",
   "execution_count": 138,
   "id": "f2e5a0f0-1a47-4b7f-b422-fa8b3a0d5f60",
   "metadata": {},
   "outputs": [
    {
     "data": {
      "text/html": [
       "<div>\n",
       "<style scoped>\n",
       "    .dataframe tbody tr th:only-of-type {\n",
       "        vertical-align: middle;\n",
       "    }\n",
       "\n",
       "    .dataframe tbody tr th {\n",
       "        vertical-align: top;\n",
       "    }\n",
       "\n",
       "    .dataframe thead th {\n",
       "        text-align: right;\n",
       "    }\n",
       "</style>\n",
       "<table border=\"1\" class=\"dataframe\">\n",
       "  <thead>\n",
       "    <tr style=\"text-align: right;\">\n",
       "      <th></th>\n",
       "      <th>review</th>\n",
       "      <th>sentiment</th>\n",
       "    </tr>\n",
       "  </thead>\n",
       "  <tbody>\n",
       "    <tr>\n",
       "      <th>0</th>\n",
       "      <td>One of the other reviewers has mentioned that ...</td>\n",
       "      <td>positive</td>\n",
       "    </tr>\n",
       "    <tr>\n",
       "      <th>1</th>\n",
       "      <td>A wonderful little production. &lt;br /&gt;&lt;br /&gt;The...</td>\n",
       "      <td>positive</td>\n",
       "    </tr>\n",
       "    <tr>\n",
       "      <th>2</th>\n",
       "      <td>I thought this was a wonderful way to spend ti...</td>\n",
       "      <td>positive</td>\n",
       "    </tr>\n",
       "    <tr>\n",
       "      <th>3</th>\n",
       "      <td>Basically there's a family where a little boy ...</td>\n",
       "      <td>negative</td>\n",
       "    </tr>\n",
       "    <tr>\n",
       "      <th>4</th>\n",
       "      <td>Petter Mattei's \"Love in the Time of Money\" is...</td>\n",
       "      <td>positive</td>\n",
       "    </tr>\n",
       "  </tbody>\n",
       "</table>\n",
       "</div>"
      ],
      "text/plain": [
       "                                              review sentiment\n",
       "0  One of the other reviewers has mentioned that ...  positive\n",
       "1  A wonderful little production. <br /><br />The...  positive\n",
       "2  I thought this was a wonderful way to spend ti...  positive\n",
       "3  Basically there's a family where a little boy ...  negative\n",
       "4  Petter Mattei's \"Love in the Time of Money\" is...  positive"
      ]
     },
     "execution_count": 138,
     "metadata": {},
     "output_type": "execute_result"
    }
   ],
   "source": [
    "df.head()"
   ]
  },
  {
   "cell_type": "code",
   "execution_count": 139,
   "id": "ccd8bb63-bd0c-4b93-a7d0-e2ca24108f0d",
   "metadata": {},
   "outputs": [
    {
     "data": {
      "text/plain": [
       "0        One of the other reviewers has mentioned that ...\n",
       "1        A wonderful little production. <br /><br />The...\n",
       "2        I thought this was a wonderful way to spend ti...\n",
       "3        Basically there's a family where a little boy ...\n",
       "4        Petter Mattei's \"Love in the Time of Money\" is...\n",
       "                               ...                        \n",
       "49995    I thought this movie did a down right good job...\n",
       "49996    Bad plot, bad dialogue, bad acting, idiotic di...\n",
       "49997    I am a Catholic taught in parochial elementary...\n",
       "49998    I'm going to have to disagree with the previou...\n",
       "49999    No one expects the Star Trek movies to be high...\n",
       "Name: review, Length: 50000, dtype: object"
      ]
     },
     "execution_count": 139,
     "metadata": {},
     "output_type": "execute_result"
    }
   ],
   "source": [
    "df.iloc[:,0]"
   ]
  },
  {
   "cell_type": "code",
   "execution_count": 140,
   "id": "cf248b48-0e6d-4afe-bab9-cf23deb529d5",
   "metadata": {},
   "outputs": [
    {
     "data": {
      "text/plain": [
       "'A wonderful little production. <br /><br />The filming technique is very unassuming- very old-time-BBC fashion and gives a comforting, and sometimes discomforting, sense of realism to the entire piece. <br /><br />The actors are extremely well chosen- Michael Sheen not only \"has got all the polari\" but he has all the voices down pat too! You can truly see the seamless editing guided by the references to Williams\\' diary entries, not only is it well worth the watching but it is a terrificly written and performed piece. A masterful production about one of the great master\\'s of comedy and his life. <br /><br />The realism really comes home with the little things: the fantasy of the guard which, rather than use the traditional \\'dream\\' techniques remains solid then disappears. It plays on our knowledge and our senses, particularly with the scenes concerning Orton and Halliwell and the sets (particularly of their flat with Halliwell\\'s murals decorating every surface) are terribly well done.'"
      ]
     },
     "execution_count": 140,
     "metadata": {},
     "output_type": "execute_result"
    }
   ],
   "source": [
    "df[\"review\"][1]"
   ]
  },
  {
   "cell_type": "markdown",
   "id": "1fa46314-f1f6-4787-8a75-f7e60cd47986",
   "metadata": {},
   "source": [
    "# Text cleaning \n",
    "- Html tags\n",
    "- Special characters\n",
    "- Lowercase all\n",
    "- Remove stop words\n",
    "- Stemming "
   ]
  },
  {
   "cell_type": "code",
   "execution_count": 142,
   "id": "7c7df268-fc9b-4366-9ddf-75e94049c049",
   "metadata": {},
   "outputs": [],
   "source": [
    "df=df.sample(10000)"
   ]
  },
  {
   "cell_type": "code",
   "execution_count": 143,
   "id": "cc2fe00b-b9b1-413c-8ecb-a58046bc42f9",
   "metadata": {},
   "outputs": [
    {
     "data": {
      "text/plain": [
       "(10000, 2)"
      ]
     },
     "execution_count": 143,
     "metadata": {},
     "output_type": "execute_result"
    }
   ],
   "source": [
    "df.shape"
   ]
  },
  {
   "cell_type": "code",
   "execution_count": 144,
   "id": "d4ff7c6f-56d4-45dc-b61c-568a865725e1",
   "metadata": {},
   "outputs": [
    {
     "data": {
      "text/html": [
       "<div>\n",
       "<style scoped>\n",
       "    .dataframe tbody tr th:only-of-type {\n",
       "        vertical-align: middle;\n",
       "    }\n",
       "\n",
       "    .dataframe tbody tr th {\n",
       "        vertical-align: top;\n",
       "    }\n",
       "\n",
       "    .dataframe thead th {\n",
       "        text-align: right;\n",
       "    }\n",
       "</style>\n",
       "<table border=\"1\" class=\"dataframe\">\n",
       "  <thead>\n",
       "    <tr style=\"text-align: right;\">\n",
       "      <th></th>\n",
       "      <th>count</th>\n",
       "      <th>unique</th>\n",
       "      <th>top</th>\n",
       "      <th>freq</th>\n",
       "    </tr>\n",
       "  </thead>\n",
       "  <tbody>\n",
       "    <tr>\n",
       "      <th>review</th>\n",
       "      <td>10000</td>\n",
       "      <td>9987</td>\n",
       "      <td>An absolutely atrocious adaptation of the wond...</td>\n",
       "      <td>2</td>\n",
       "    </tr>\n",
       "    <tr>\n",
       "      <th>sentiment</th>\n",
       "      <td>10000</td>\n",
       "      <td>2</td>\n",
       "      <td>positive</td>\n",
       "      <td>5014</td>\n",
       "    </tr>\n",
       "  </tbody>\n",
       "</table>\n",
       "</div>"
      ],
      "text/plain": [
       "           count unique                                                top  \\\n",
       "review     10000   9987  An absolutely atrocious adaptation of the wond...   \n",
       "sentiment  10000      2                                           positive   \n",
       "\n",
       "           freq  \n",
       "review        2  \n",
       "sentiment  5014  "
      ]
     },
     "execution_count": 144,
     "metadata": {},
     "output_type": "execute_result"
    }
   ],
   "source": [
    "df.describe().T"
   ]
  },
  {
   "cell_type": "code",
   "execution_count": 145,
   "id": "3438055b-4b48-41c9-9409-8d4714ab0429",
   "metadata": {},
   "outputs": [
    {
     "name": "stdout",
     "output_type": "stream",
     "text": [
      "<class 'pandas.core.frame.DataFrame'>\n",
      "Index: 10000 entries, 966 to 16854\n",
      "Data columns (total 2 columns):\n",
      " #   Column     Non-Null Count  Dtype \n",
      "---  ------     --------------  ----- \n",
      " 0   review     10000 non-null  object\n",
      " 1   sentiment  10000 non-null  object\n",
      "dtypes: object(2)\n",
      "memory usage: 234.4+ KB\n"
     ]
    }
   ],
   "source": [
    "df.info()"
   ]
  },
  {
   "cell_type": "code",
   "execution_count": 146,
   "id": "0a512688-dd07-46a0-a610-d9e3c810343b",
   "metadata": {},
   "outputs": [
    {
     "name": "stderr",
     "output_type": "stream",
     "text": [
      "/var/folders/49/2yb8tvwd13q0h205019lpz540000gn/T/ipykernel_2221/3225820470.py:1: FutureWarning: A value is trying to be set on a copy of a DataFrame or Series through chained assignment using an inplace method.\n",
      "The behavior will change in pandas 3.0. This inplace method will never work because the intermediate object on which we are setting values always behaves as a copy.\n",
      "\n",
      "For example, when doing 'df[col].method(value, inplace=True)', try using 'df.method({col: value}, inplace=True)' or df[col] = df[col].method(value) instead, to perform the operation inplace on the original object.\n",
      "\n",
      "\n",
      "  df[\"sentiment\"].replace({\"positive\":1,\"negative\":0},inplace=True)\n",
      "/var/folders/49/2yb8tvwd13q0h205019lpz540000gn/T/ipykernel_2221/3225820470.py:1: FutureWarning: Downcasting behavior in `replace` is deprecated and will be removed in a future version. To retain the old behavior, explicitly call `result.infer_objects(copy=False)`. To opt-in to the future behavior, set `pd.set_option('future.no_silent_downcasting', True)`\n",
      "  df[\"sentiment\"].replace({\"positive\":1,\"negative\":0},inplace=True)\n"
     ]
    }
   ],
   "source": [
    "df[\"sentiment\"].replace({\"positive\":1,\"negative\":0},inplace=True)"
   ]
  },
  {
   "cell_type": "code",
   "execution_count": 147,
   "id": "5fca0113-8df0-4e9a-8508-bc41c65ab2f9",
   "metadata": {},
   "outputs": [
    {
     "data": {
      "text/html": [
       "<div>\n",
       "<style scoped>\n",
       "    .dataframe tbody tr th:only-of-type {\n",
       "        vertical-align: middle;\n",
       "    }\n",
       "\n",
       "    .dataframe tbody tr th {\n",
       "        vertical-align: top;\n",
       "    }\n",
       "\n",
       "    .dataframe thead th {\n",
       "        text-align: right;\n",
       "    }\n",
       "</style>\n",
       "<table border=\"1\" class=\"dataframe\">\n",
       "  <thead>\n",
       "    <tr style=\"text-align: right;\">\n",
       "      <th></th>\n",
       "      <th>review</th>\n",
       "      <th>sentiment</th>\n",
       "    </tr>\n",
       "  </thead>\n",
       "  <tbody>\n",
       "    <tr>\n",
       "      <th>966</th>\n",
       "      <td>The problem is the role of the characters in t...</td>\n",
       "      <td>0</td>\n",
       "    </tr>\n",
       "    <tr>\n",
       "      <th>38736</th>\n",
       "      <td>Joan Fontaine stars as the villain in this Vic...</td>\n",
       "      <td>1</td>\n",
       "    </tr>\n",
       "    <tr>\n",
       "      <th>36320</th>\n",
       "      <td>A criminally short lived show that went on to ...</td>\n",
       "      <td>1</td>\n",
       "    </tr>\n",
       "    <tr>\n",
       "      <th>25168</th>\n",
       "      <td>one of the most awaited movie!i thought himesh...</td>\n",
       "      <td>0</td>\n",
       "    </tr>\n",
       "    <tr>\n",
       "      <th>11829</th>\n",
       "      <td>Such great actors such a disappointment. Marlo...</td>\n",
       "      <td>0</td>\n",
       "    </tr>\n",
       "  </tbody>\n",
       "</table>\n",
       "</div>"
      ],
      "text/plain": [
       "                                                  review  sentiment\n",
       "966    The problem is the role of the characters in t...          0\n",
       "38736  Joan Fontaine stars as the villain in this Vic...          1\n",
       "36320  A criminally short lived show that went on to ...          1\n",
       "25168  one of the most awaited movie!i thought himesh...          0\n",
       "11829  Such great actors such a disappointment. Marlo...          0"
      ]
     },
     "execution_count": 147,
     "metadata": {},
     "output_type": "execute_result"
    }
   ],
   "source": [
    "df.head()"
   ]
  },
  {
   "cell_type": "markdown",
   "id": "d122236f-e43d-4ecc-992a-ddb86bd47bfb",
   "metadata": {},
   "source": [
    "##  Remove html tags"
   ]
  },
  {
   "cell_type": "code",
   "execution_count": 149,
   "id": "a66c15c7-b7ee-4264-a2e7-ee9f2f38c625",
   "metadata": {},
   "outputs": [
    {
     "data": {
      "text/plain": [
       "'Barry Kane (Robert Cummings) is wrongfully accused on sabotaging a hanger making aircrafts for the war. He goes on the run, meets Patricia Martin (Priscilla Lane) along the way, and she joins him to find and bring the real criminals to justice.<br /><br />There are a lot of things wrong with this film. Robert Cummings was a good actor but he\\'s totally miscast in this role; Priscilla Lane is pretty but was never a good actress; the story doesn\\'t make a whole lot of sense (and rambles on longer than needed); it wears its patriotism a bit much (but this WAS made while WWII was in full swing) and there\\'s no ending. It shouldn\\'t work but it does.<br /><br />It\\'s full of bizarre lines and characters that certainly hold your interest.<br /><br />For example: Lane says to Cummings (while they\\'re falling in love), \"I wish I could have met you a hundred years ago\" (????!!!!); Lane PAYS a villain for getting her lunch and Cummings and Lane join a circus troupe briefly while on the run. Also Hitchcock\\'s direction was (as always) just great--he throws in some truly amazing shots and sequences--especially the Statue of Liberty climax. <br /><br />This is not one of Hitchcock\\'s classic movie but is still very good and worth catching.'"
      ]
     },
     "execution_count": 149,
     "metadata": {},
     "output_type": "execute_result"
    }
   ],
   "source": [
    "df.iloc[5,0]"
   ]
  },
  {
   "cell_type": "code",
   "execution_count": 150,
   "id": "4e8938ba-f4a6-46c6-af93-d0dc1e3f537a",
   "metadata": {},
   "outputs": [
    {
     "data": {
      "text/plain": [
       "'Barry Kane (Robert Cummings) is wrongfully accused on sabotaging a hanger making aircrafts for the war. He goes on the run, meets Patricia Martin (Priscilla Lane) along the way, and she joins him to find and bring the real criminals to justice.There are a lot of things wrong with this film. Robert Cummings was a good actor but he\\'s totally miscast in this role; Priscilla Lane is pretty but was never a good actress; the story doesn\\'t make a whole lot of sense (and rambles on longer than needed); it wears its patriotism a bit much (but this WAS made while WWII was in full swing) and there\\'s no ending. It shouldn\\'t work but it does.It\\'s full of bizarre lines and characters that certainly hold your interest.For example: Lane says to Cummings (while they\\'re falling in love), \"I wish I could have met you a hundred years ago\" (????!!!!); Lane PAYS a villain for getting her lunch and Cummings and Lane join a circus troupe briefly while on the run. Also Hitchcock\\'s direction was (as always) just great--he throws in some truly amazing shots and sequences--especially the Statue of Liberty climax. This is not one of Hitchcock\\'s classic movie but is still very good and worth catching.'"
      ]
     },
     "execution_count": 150,
     "metadata": {},
     "output_type": "execute_result"
    }
   ],
   "source": [
    "import re\n",
    "clean=re.compile(\"<.*?>\")\n",
    "re.sub(clean,\"\",df.iloc[5].review)"
   ]
  },
  {
   "cell_type": "code",
   "execution_count": 257,
   "id": "1879a63c-04b4-4d8b-80d2-0382a0d0c26f",
   "metadata": {},
   "outputs": [],
   "source": [
    "df2=df.copy()"
   ]
  },
  {
   "cell_type": "code",
   "execution_count": 258,
   "id": "3aacae6c-5fbe-4942-90a9-61030ba40529",
   "metadata": {},
   "outputs": [],
   "source": [
    "# function \n",
    "\n",
    "import re\n",
    "def clean_tags(text):\n",
    "    clean=re.compile(\"<.*?>\")\n",
    "    return re.sub(clean,\"\",text)"
   ]
  },
  {
   "cell_type": "code",
   "execution_count": 259,
   "id": "a7bda507-c3c0-4c7b-b3e4-6659ea1b47aa",
   "metadata": {},
   "outputs": [],
   "source": [
    "df2[\"review\"]=df2[\"review\"].apply(clean_tags)"
   ]
  },
  {
   "cell_type": "code",
   "execution_count": 260,
   "id": "8fb08eec-1705-405b-b1d5-d70513e11613",
   "metadata": {},
   "outputs": [
    {
     "data": {
      "text/plain": [
       "966      The problem is the role of the characters in t...\n",
       "38736    Joan Fontaine stars as the villain in this Vic...\n",
       "36320    A criminally short lived show that went on to ...\n",
       "25168    one of the most awaited movie!i thought himesh...\n",
       "11829    Such great actors such a disappointment. Marlo...\n",
       "                               ...                        \n",
       "9871     This is perhaps the most ridiculous crap I hav...\n",
       "16762    Scott's collection of 80's icons cannot save t...\n",
       "37004    Bamboo House of Dolls (1973, 1974 or 1977, var...\n",
       "41575    I had seen Marion Davies in a couple of movies...\n",
       "16854    This film was strongly recommended by a friend...\n",
       "Name: review, Length: 10000, dtype: object"
      ]
     },
     "execution_count": 260,
     "metadata": {},
     "output_type": "execute_result"
    }
   ],
   "source": [
    "df2[\"review\"]"
   ]
  },
  {
   "cell_type": "code",
   "execution_count": 261,
   "id": "7cfa7aa5-9d00-4605-af15-a16f1fb8cbe6",
   "metadata": {},
   "outputs": [],
   "source": [
    "def to_lower(text):\n",
    "    return text.lower()"
   ]
  },
  {
   "cell_type": "code",
   "execution_count": 262,
   "id": "73d145b3-9058-47c0-9f45-424733f99bd4",
   "metadata": {},
   "outputs": [],
   "source": [
    "df2[\"review\"]=df2[\"review\"].apply(to_lower)"
   ]
  },
  {
   "cell_type": "code",
   "execution_count": 263,
   "id": "d17d7be7-0ffd-4d64-8b93-b1025c109491",
   "metadata": {},
   "outputs": [
    {
     "data": {
      "text/plain": [
       "\"the problem is the role of the characters in the film. man to man shows a british anthropologist kidnapping two pygmies and taking them to scotland and then realising that they are not animals or subhumans but actually equal to himself. the problem is the role of the pygmies in the film - two people who are kidnapped, treated like animals, and yet given such a shallow, stereotypical role within the film... the kidnapper (british anthropologist) ends up being the hero of the film because he 'manages' to relate to the pygmies... no notion of how the two hostages feel, of their point of view, of their ordeal... i find it is a shallow film, with a one sided fundamentally racist view... it never manages to move away from the 'white mans' view\""
      ]
     },
     "execution_count": 263,
     "metadata": {},
     "output_type": "execute_result"
    }
   ],
   "source": [
    "df2.loc[966,\"review\"]"
   ]
  },
  {
   "cell_type": "code",
   "execution_count": 264,
   "id": "83008cd6-1fad-4355-8522-a393bf184dea",
   "metadata": {},
   "outputs": [],
   "source": [
    "def remove_special_char(text):\n",
    "    x=\"\"\n",
    "    for i in text:\n",
    "        if i.isalnum():\n",
    "            x=x+i\n",
    "        else:\n",
    "            x=x+\" \"\n",
    "    return x"
   ]
  },
  {
   "cell_type": "code",
   "execution_count": 265,
   "id": "ec5acd54-8db5-417f-87ca-d486c6194aa4",
   "metadata": {},
   "outputs": [
    {
     "data": {
      "text/plain": [
       "'the problem is the role of the characters in the film  man to man shows a british anthropologist kidnapping two pygmies and taking them to scotland and then realising that they are not animals or subhumans but actually equal to himself  the problem is the role of the pygmies in the film   two people who are kidnapped  treated like animals  and yet given such a shallow  stereotypical role within the film    the kidnapper  british anthropologist  ends up being the hero of the film because he  manages  to relate to the pygmies    no notion of how the two hostages feel  of their point of view  of their ordeal    i find it is a shallow film  with a one sided fundamentally racist view    it never manages to move away from the  white mans  view'"
      ]
     },
     "execution_count": 265,
     "metadata": {},
     "output_type": "execute_result"
    }
   ],
   "source": [
    "df2[\"review\"]=df2[\"review\"].apply(remove_special_char)\n",
    "df2.loc[966,\"review\"]"
   ]
  },
  {
   "cell_type": "code",
   "execution_count": 266,
   "id": "27a80bc5-ef15-40ed-829f-65044deb7725",
   "metadata": {},
   "outputs": [
    {
     "data": {
      "text/html": [
       "<div>\n",
       "<style scoped>\n",
       "    .dataframe tbody tr th:only-of-type {\n",
       "        vertical-align: middle;\n",
       "    }\n",
       "\n",
       "    .dataframe tbody tr th {\n",
       "        vertical-align: top;\n",
       "    }\n",
       "\n",
       "    .dataframe thead th {\n",
       "        text-align: right;\n",
       "    }\n",
       "</style>\n",
       "<table border=\"1\" class=\"dataframe\">\n",
       "  <thead>\n",
       "    <tr style=\"text-align: right;\">\n",
       "      <th></th>\n",
       "      <th>review</th>\n",
       "      <th>sentiment</th>\n",
       "    </tr>\n",
       "  </thead>\n",
       "  <tbody>\n",
       "    <tr>\n",
       "      <th>966</th>\n",
       "      <td>the problem is the role of the characters in t...</td>\n",
       "      <td>0</td>\n",
       "    </tr>\n",
       "    <tr>\n",
       "      <th>38736</th>\n",
       "      <td>joan fontaine stars as the villain in this vic...</td>\n",
       "      <td>1</td>\n",
       "    </tr>\n",
       "    <tr>\n",
       "      <th>36320</th>\n",
       "      <td>a criminally short lived show that went on to ...</td>\n",
       "      <td>1</td>\n",
       "    </tr>\n",
       "    <tr>\n",
       "      <th>25168</th>\n",
       "      <td>one of the most awaited movie i thought himesh...</td>\n",
       "      <td>0</td>\n",
       "    </tr>\n",
       "    <tr>\n",
       "      <th>11829</th>\n",
       "      <td>such great actors such a disappointment  marlo...</td>\n",
       "      <td>0</td>\n",
       "    </tr>\n",
       "  </tbody>\n",
       "</table>\n",
       "</div>"
      ],
      "text/plain": [
       "                                                  review  sentiment\n",
       "966    the problem is the role of the characters in t...          0\n",
       "38736  joan fontaine stars as the villain in this vic...          1\n",
       "36320  a criminally short lived show that went on to ...          1\n",
       "25168  one of the most awaited movie i thought himesh...          0\n",
       "11829  such great actors such a disappointment  marlo...          0"
      ]
     },
     "execution_count": 266,
     "metadata": {},
     "output_type": "execute_result"
    }
   ],
   "source": [
    "df2.head()"
   ]
  },
  {
   "cell_type": "code",
   "execution_count": 284,
   "id": "200df23a-95b3-465f-a151-930070111013",
   "metadata": {},
   "outputs": [
    {
     "data": {
      "text/plain": [
       "'what is th e ag e of him'"
      ]
     },
     "execution_count": 284,
     "metadata": {},
     "output_type": "execute_result"
    }
   ],
   "source": [
    "remove_special_char(\"what is th/e ag@e of him\")"
   ]
  },
  {
   "cell_type": "code",
   "execution_count": null,
   "id": "6c53ef15-3b0b-4f68-8bdd-9efe0b9d4ba9",
   "metadata": {},
   "outputs": [],
   "source": []
  }
 ],
 "metadata": {
  "kernelspec": {
   "display_name": "Python 3 (ipykernel)",
   "language": "python",
   "name": "python3"
  },
  "language_info": {
   "codemirror_mode": {
    "name": "ipython",
    "version": 3
   },
   "file_extension": ".py",
   "mimetype": "text/x-python",
   "name": "python",
   "nbconvert_exporter": "python",
   "pygments_lexer": "ipython3",
   "version": "3.12.7"
  }
 },
 "nbformat": 4,
 "nbformat_minor": 5
}
